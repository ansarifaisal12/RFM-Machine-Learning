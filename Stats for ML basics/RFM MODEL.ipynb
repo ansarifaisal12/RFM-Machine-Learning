{
 "cells": [
  {
   "cell_type": "markdown",
   "id": "4ef01135",
   "metadata": {},
   "source": [
    "# Descriptive Statistics:\n",
    "Mean, Median, and Mode:"
   ]
  },
  {
   "cell_type": "code",
   "execution_count": 46,
   "id": "d43e7d9e",
   "metadata": {},
   "outputs": [],
   "source": [
    "import numpy as np \n",
    "import pandas as pd"
   ]
  },
  {
   "cell_type": "code",
   "execution_count": 47,
   "id": "db658f2b",
   "metadata": {},
   "outputs": [],
   "source": [
    "#Load the dataset\n",
    "df = pd.read_csv('MSFT.csv')"
   ]
  },
  {
   "cell_type": "code",
   "execution_count": 48,
   "id": "69aa7c91",
   "metadata": {},
   "outputs": [
    {
     "data": {
      "text/html": [
       "<div>\n",
       "<style scoped>\n",
       "    .dataframe tbody tr th:only-of-type {\n",
       "        vertical-align: middle;\n",
       "    }\n",
       "\n",
       "    .dataframe tbody tr th {\n",
       "        vertical-align: top;\n",
       "    }\n",
       "\n",
       "    .dataframe thead th {\n",
       "        text-align: right;\n",
       "    }\n",
       "</style>\n",
       "<table border=\"1\" class=\"dataframe\">\n",
       "  <thead>\n",
       "    <tr style=\"text-align: right;\">\n",
       "      <th></th>\n",
       "      <th>Date</th>\n",
       "      <th>Open</th>\n",
       "      <th>High</th>\n",
       "      <th>Low</th>\n",
       "      <th>Close</th>\n",
       "      <th>Adj Close</th>\n",
       "      <th>Volume</th>\n",
       "    </tr>\n",
       "  </thead>\n",
       "  <tbody>\n",
       "    <tr>\n",
       "      <th>0</th>\n",
       "      <td>2023-01-06</td>\n",
       "      <td>223.000000</td>\n",
       "      <td>225.759995</td>\n",
       "      <td>219.350006</td>\n",
       "      <td>224.929993</td>\n",
       "      <td>222.953079</td>\n",
       "      <td>43613600</td>\n",
       "    </tr>\n",
       "    <tr>\n",
       "      <th>1</th>\n",
       "      <td>2023-01-09</td>\n",
       "      <td>226.449997</td>\n",
       "      <td>231.240005</td>\n",
       "      <td>226.410004</td>\n",
       "      <td>227.119995</td>\n",
       "      <td>225.123856</td>\n",
       "      <td>27369800</td>\n",
       "    </tr>\n",
       "    <tr>\n",
       "      <th>2</th>\n",
       "      <td>2023-01-10</td>\n",
       "      <td>227.759995</td>\n",
       "      <td>231.309998</td>\n",
       "      <td>227.330002</td>\n",
       "      <td>228.850006</td>\n",
       "      <td>226.838638</td>\n",
       "      <td>27033900</td>\n",
       "    </tr>\n",
       "    <tr>\n",
       "      <th>3</th>\n",
       "      <td>2023-01-11</td>\n",
       "      <td>231.289993</td>\n",
       "      <td>235.949997</td>\n",
       "      <td>231.110001</td>\n",
       "      <td>235.770004</td>\n",
       "      <td>233.697815</td>\n",
       "      <td>28669300</td>\n",
       "    </tr>\n",
       "    <tr>\n",
       "      <th>4</th>\n",
       "      <td>2023-01-12</td>\n",
       "      <td>235.259995</td>\n",
       "      <td>239.899994</td>\n",
       "      <td>233.559998</td>\n",
       "      <td>238.509995</td>\n",
       "      <td>236.413742</td>\n",
       "      <td>27269500</td>\n",
       "    </tr>\n",
       "  </tbody>\n",
       "</table>\n",
       "</div>"
      ],
      "text/plain": [
       "         Date        Open        High         Low       Close   Adj Close  \\\n",
       "0  2023-01-06  223.000000  225.759995  219.350006  224.929993  222.953079   \n",
       "1  2023-01-09  226.449997  231.240005  226.410004  227.119995  225.123856   \n",
       "2  2023-01-10  227.759995  231.309998  227.330002  228.850006  226.838638   \n",
       "3  2023-01-11  231.289993  235.949997  231.110001  235.770004  233.697815   \n",
       "4  2023-01-12  235.259995  239.899994  233.559998  238.509995  236.413742   \n",
       "\n",
       "     Volume  \n",
       "0  43613600  \n",
       "1  27369800  \n",
       "2  27033900  \n",
       "3  28669300  \n",
       "4  27269500  "
      ]
     },
     "execution_count": 48,
     "metadata": {},
     "output_type": "execute_result"
    }
   ],
   "source": [
    "df.head()"
   ]
  },
  {
   "cell_type": "code",
   "execution_count": 49,
   "id": "b4479c47",
   "metadata": {},
   "outputs": [
    {
     "data": {
      "text/html": [
       "<div>\n",
       "<style scoped>\n",
       "    .dataframe tbody tr th:only-of-type {\n",
       "        vertical-align: middle;\n",
       "    }\n",
       "\n",
       "    .dataframe tbody tr th {\n",
       "        vertical-align: top;\n",
       "    }\n",
       "\n",
       "    .dataframe thead th {\n",
       "        text-align: right;\n",
       "    }\n",
       "</style>\n",
       "<table border=\"1\" class=\"dataframe\">\n",
       "  <thead>\n",
       "    <tr style=\"text-align: right;\">\n",
       "      <th></th>\n",
       "      <th>Open</th>\n",
       "      <th>High</th>\n",
       "      <th>Low</th>\n",
       "      <th>Close</th>\n",
       "      <th>Adj Close</th>\n",
       "      <th>Volume</th>\n",
       "    </tr>\n",
       "  </thead>\n",
       "  <tbody>\n",
       "    <tr>\n",
       "      <th>count</th>\n",
       "      <td>251.000000</td>\n",
       "      <td>251.000000</td>\n",
       "      <td>251.000000</td>\n",
       "      <td>251.000000</td>\n",
       "      <td>251.000000</td>\n",
       "      <td>2.510000e+02</td>\n",
       "    </tr>\n",
       "    <tr>\n",
       "      <th>mean</th>\n",
       "      <td>315.559283</td>\n",
       "      <td>318.648686</td>\n",
       "      <td>312.696454</td>\n",
       "      <td>315.832351</td>\n",
       "      <td>314.643721</td>\n",
       "      <td>2.746283e+07</td>\n",
       "    </tr>\n",
       "    <tr>\n",
       "      <th>std</th>\n",
       "      <td>40.631066</td>\n",
       "      <td>40.512317</td>\n",
       "      <td>40.362838</td>\n",
       "      <td>40.413711</td>\n",
       "      <td>40.968550</td>\n",
       "      <td>1.051179e+07</td>\n",
       "    </tr>\n",
       "    <tr>\n",
       "      <th>min</th>\n",
       "      <td>223.000000</td>\n",
       "      <td>225.759995</td>\n",
       "      <td>219.350006</td>\n",
       "      <td>224.929993</td>\n",
       "      <td>222.953079</td>\n",
       "      <td>1.017660e+07</td>\n",
       "    </tr>\n",
       "    <tr>\n",
       "      <th>25%</th>\n",
       "      <td>284.510010</td>\n",
       "      <td>287.080002</td>\n",
       "      <td>282.475006</td>\n",
       "      <td>285.050003</td>\n",
       "      <td>283.252411</td>\n",
       "      <td>2.117425e+07</td>\n",
       "    </tr>\n",
       "    <tr>\n",
       "      <th>50%</th>\n",
       "      <td>325.660004</td>\n",
       "      <td>329.390015</td>\n",
       "      <td>323.000000</td>\n",
       "      <td>326.660004</td>\n",
       "      <td>325.309601</td>\n",
       "      <td>2.499090e+07</td>\n",
       "    </tr>\n",
       "    <tr>\n",
       "      <th>75%</th>\n",
       "      <td>339.000000</td>\n",
       "      <td>341.649994</td>\n",
       "      <td>335.585006</td>\n",
       "      <td>338.129989</td>\n",
       "      <td>337.113327</td>\n",
       "      <td>2.980080e+07</td>\n",
       "    </tr>\n",
       "    <tr>\n",
       "      <th>max</th>\n",
       "      <td>383.760010</td>\n",
       "      <td>384.299988</td>\n",
       "      <td>378.160004</td>\n",
       "      <td>382.700012</td>\n",
       "      <td>382.700012</td>\n",
       "      <td>7.847820e+07</td>\n",
       "    </tr>\n",
       "  </tbody>\n",
       "</table>\n",
       "</div>"
      ],
      "text/plain": [
       "             Open        High         Low       Close   Adj Close  \\\n",
       "count  251.000000  251.000000  251.000000  251.000000  251.000000   \n",
       "mean   315.559283  318.648686  312.696454  315.832351  314.643721   \n",
       "std     40.631066   40.512317   40.362838   40.413711   40.968550   \n",
       "min    223.000000  225.759995  219.350006  224.929993  222.953079   \n",
       "25%    284.510010  287.080002  282.475006  285.050003  283.252411   \n",
       "50%    325.660004  329.390015  323.000000  326.660004  325.309601   \n",
       "75%    339.000000  341.649994  335.585006  338.129989  337.113327   \n",
       "max    383.760010  384.299988  378.160004  382.700012  382.700012   \n",
       "\n",
       "             Volume  \n",
       "count  2.510000e+02  \n",
       "mean   2.746283e+07  \n",
       "std    1.051179e+07  \n",
       "min    1.017660e+07  \n",
       "25%    2.117425e+07  \n",
       "50%    2.499090e+07  \n",
       "75%    2.980080e+07  \n",
       "max    7.847820e+07  "
      ]
     },
     "execution_count": 49,
     "metadata": {},
     "output_type": "execute_result"
    }
   ],
   "source": [
    "# Summary statistics\n",
    "df.describe()"
   ]
  },
  {
   "cell_type": "code",
   "execution_count": 50,
   "id": "42f66aa9",
   "metadata": {},
   "outputs": [],
   "source": [
    "# Calculate mean, median, and mode of the 'Close' prices\n",
    "mean_close = df['Close'].mean()\n",
    "median_close = df['Close'].median()\n",
    "mode_close = df['Close'].mode()[0]"
   ]
  },
  {
   "cell_type": "code",
   "execution_count": 51,
   "id": "6690e845",
   "metadata": {},
   "outputs": [
    {
     "name": "stdout",
     "output_type": "stream",
     "text": [
      "Mean Close Price: 315.83235129083664\n",
      "Median Close Price: 326.660004\n",
      "Mode Close Price: 305.410004\n"
     ]
    }
   ],
   "source": [
    "print(\"Mean Close Price:\", mean_close)\n",
    "print(\"Median Close Price:\", median_close)\n",
    "print(\"Mode Close Price:\", mode_close)"
   ]
  },
  {
   "cell_type": "code",
   "execution_count": 52,
   "id": "08adce63",
   "metadata": {},
   "outputs": [],
   "source": [
    "# Calculate daily returns\n",
    "df['Daily_Return'] = df['Close'].pct_change() * 100\n"
   ]
  },
  {
   "cell_type": "code",
   "execution_count": 53,
   "id": "6eeda0a6",
   "metadata": {},
   "outputs": [
    {
     "data": {
      "text/plain": [
       "0         NaN\n",
       "1    0.973637\n",
       "2    0.761717\n",
       "3    3.023814\n",
       "4    1.162146\n",
       "Name: Daily_Return, dtype: float64"
      ]
     },
     "execution_count": 53,
     "metadata": {},
     "output_type": "execute_result"
    }
   ],
   "source": [
    "# Display daily returns\n",
    "df['Daily_Return'].head()"
   ]
  },
  {
   "cell_type": "code",
   "execution_count": 54,
   "id": "0a1848ba",
   "metadata": {},
   "outputs": [
    {
     "data": {
      "image/png": "[encoded data removed]",
      "text/plain": [
       "<Figure size 640x480 with 1 Axes>"
      ]
     },
     "metadata": {},
     "output_type": "display_data"
    }
   ],
   "source": [
    "# Plotting the distribution of daily returns\n",
    "import matplotlib.pyplot as plt\n",
    "plt.hist(df['Daily_Return'].dropna(), bins=30, edgecolor='black')\n",
    "plt.title('Daily Returns Distribution')\n",
    "plt.xlabel('Daily Returns (%)')\n",
    "plt.ylabel('Frequency')\n",
    "plt.show()"
   ]
  },
  {
   "cell_type": "markdown",
   "id": "37c41f12",
   "metadata": {},
   "source": [
    "# HYPOTHESIS TESTING "
   ]
  },
  {
   "cell_type": "code",
   "execution_count": 55,
   "id": "cdb109ef",
   "metadata": {},
   "outputs": [],
   "source": [
    "from scipy.stats import ttest_ind\n",
    "\n",
    "# Splitting the data into two periods (first half and second half)\n",
    "midpoint = len(df) // 2\n",
    "first_half_returns = df['Daily_Return'][:midpoint].dropna()\n",
    "second_half_returns = df['Daily_Return'][midpoint:].dropna()"
   ]
  },
  {
   "cell_type": "code",
   "execution_count": 56,
   "id": "bde8f756",
   "metadata": {},
   "outputs": [
    {
     "name": "stdout",
     "output_type": "stream",
     "text": [
      "T-Statistic: 1.3544437034676673\n",
      "P-Value: 0.17682758242327937\n"
     ]
    }
   ],
   "source": [
    "# Performing t-test\n",
    "t_stat, p_value = ttest_ind(first_half_returns, second_half_returns)\n",
    "print(\"T-Statistic:\", t_stat)\n",
    "print(\"P-Value:\", p_value)"
   ]
  },
  {
   "cell_type": "code",
   "execution_count": 63,
   "id": "dfb84b0b",
   "metadata": {},
   "outputs": [
    {
     "name": "stdout",
     "output_type": "stream",
     "text": [
      "Outliers based on Z-score:\n",
      "Empty DataFrame\n",
      "Columns: [Date, Close, Close_Zscore]\n",
      "Index: []\n"
     ]
    }
   ],
   "source": [
    "from scipy.stats import zscore\n",
    "\n",
    "# Calculating Z-scores for 'Close' prices\n",
    "df['Close_Zscore'] = zscore(df['Close'].dropna())\n",
    "\n",
    "# Setting a threshold for outliers \n",
    "outliers = df[(df['Close_Zscore'] > 3) | (df['Close_Zscore'] < -3)]\n",
    "print(\"Outliers based on Z-score:\")\n",
    "print(outliers[['Date', 'Close', 'Close_Zscore']])\n"
   ]
  },
  {
   "cell_type": "code",
   "execution_count": 64,
   "id": "2061ed56",
   "metadata": {},
   "outputs": [
    {
     "name": "stdout",
     "output_type": "stream",
     "text": [
      "Outliers based on IQR:\n",
      "Empty DataFrame\n",
      "Columns: [Date, Close]\n",
      "Index: []\n"
     ]
    }
   ],
   "source": [
    "# Calculating IQR\n",
    "Q1 = df['Close'].quantile(0.25)\n",
    "Q3 = df['Close'].quantile(0.75)\n",
    "IQR = Q3 - Q1\n",
    "\n",
    "# Finding outliers using IQR method\n",
    "outliers_iqr = df[(df['Close'] < Q1 - 1.5 * IQR) | (df['Close'] > Q3 + 1.5 * IQR)]\n",
    "print(\"Outliers based on IQR:\")\n",
    "print(outliers_iqr[['Date', 'Close']])\n"
   ]
  },
  {
   "cell_type": "code",
   "execution_count": 65,
   "id": "e6da3bd9",
   "metadata": {},
   "outputs": [
    {
     "data": {
      "image/png": "[encoded data removed]",
      "text/plain": [
       "<Figure size 800x600 with 1 Axes>"
      ]
     },
     "metadata": {},
     "output_type": "display_data"
    }
   ],
   "source": [
    "import seaborn as sns\n",
    "\n",
    "# Boxplot to visualize outliers\n",
    "plt.figure(figsize=(8, 6))\n",
    "sns.boxplot(x=df['Close'])\n",
    "plt.title('Boxplot of Close Prices')\n",
    "plt.xlabel('Close Prices')\n",
    "plt.show()\n"
   ]
  },
  {
   "cell_type": "markdown",
   "id": "0d0fed47",
   "metadata": {},
   "source": [
    "It appears that based on the Z-score method, there are no outliers identified for the 'Close' prices in the Microsoft stock dataset. This could imply that the data doesn't have extreme values that fall beyond a certain threshold (commonly set at 3 standard deviations from the mean)."
   ]
  },
  {
   "cell_type": "code",
   "execution_count": 66,
   "id": "3ffe6270",
   "metadata": {},
   "outputs": [
    {
     "name": "stdout",
     "output_type": "stream",
     "text": [
      "Mean Squared Error: 4.151402100444227\n",
      "R-squared: 0.9975133221767103\n"
     ]
    }
   ],
   "source": [
    "from sklearn.ensemble import RandomForestRegressor\n",
    "from sklearn.model_selection import train_test_split\n",
    "from sklearn.metrics import mean_squared_error, r2_score\n",
    "\n",
    "# Feature engineering: creating lag features\n",
    "df['Close_Lag1'] = df['Close'].shift(1)  # Lag 1 day\n",
    "\n",
    "# Selecting features and target variable\n",
    "features = ['Open', 'High', 'Low', 'Volume', 'Close_Lag1']\n",
    "target = 'Close'\n",
    "\n",
    "# Removing rows with missing values created by lagging\n",
    "df.dropna(inplace=True)\n",
    "\n",
    "X = df[features]\n",
    "y = df[target]\n",
    "\n",
    "# Splitting the data into training and testing sets\n",
    "X_train, X_test, y_train, y_test = train_test_split(X, y, test_size=0.2, random_state=42)\n",
    "\n",
    "# Initializing and fitting the Random Forest Regressor model\n",
    "rf_model = RandomForestRegressor(n_estimators=100, random_state=42)\n",
    "rf_model.fit(X_train, y_train)\n",
    "\n",
    "# Making predictions\n",
    "y_pred = rf_model.predict(X_test)\n",
    "\n",
    "# Model evaluation\n",
    "mse = mean_squared_error(y_test, y_pred)\n",
    "r2 = r2_score(y_test, y_pred)\n",
    "\n",
    "print(\"Mean Squared Error:\", mse)\n",
    "print(\"R-squared:\", r2)"
   ]
  }
 ],
 "metadata": {
  "kernelspec": {
   "display_name": "Python 3 (ipykernel)",
   "language": "python",
   "name": "python3"
  },
  "language_info": {
   "codemirror_mode": {
    "name": "ipython",
    "version": 3
   },
   "file_extension": ".py",
   "mimetype": "text/x-python",
   "name": "python",
   "nbconvert_exporter": "python",
   "pygments_lexer": "ipython3",
   "version": "3.11.5"
  }
 },
 "nbformat": 4,
 "nbformat_minor": 5
}
